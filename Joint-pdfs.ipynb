{
 "cells": [
  {
   "cell_type": "markdown",
   "metadata": {},
   "source": [
    "Dá um play no código para juntar teus pdfs"
   ]
  },
  {
   "cell_type": "code",
   "execution_count": 1,
   "metadata": {},
   "outputs": [
    {
     "name": "stdout",
     "output_type": "stream",
     "text": [
      "PDF combinado salvo como \"combined.pdf\"\n"
     ]
    }
   ],
   "source": [
    "import tkinter as tk\n",
    "from tkinter import filedialog\n",
    "from pikepdf import Pdf\n",
    "import os\n",
    "import subprocess\n",
    "import platform\n",
    "\n",
    "# Função para combinar PDFs\n",
    "def combine_pdfs(pdf_files):\n",
    "    output_pdf = Pdf.new()\n",
    "\n",
    "    for pdf in pdf_files:\n",
    "        with Pdf.open(pdf) as src_pdf:\n",
    "            for page in src_pdf.pages:\n",
    "                output_pdf.pages.append(page)\n",
    "\n",
    "    combined_pdf_name = \"combined.pdf\"\n",
    "    output_pdf.save(combined_pdf_name)\n",
    "\n",
    "    return combined_pdf_name\n",
    "\n",
    "# Função para abrir uma janela de seleção de arquivos\n",
    "def select_files():\n",
    "    root = tk.Tk()\n",
    "    root.withdraw()  # Ocultar a janela principal\n",
    "\n",
    "    # Abrir a janela de diálogo para seleção de arquivos\n",
    "    file_paths = filedialog.askopenfilenames(\n",
    "        title=\"Selecione os arquivos PDF\",\n",
    "        filetypes=[(\"Arquivos PDF\", \"*.pdf\")]\n",
    "    )\n",
    "\n",
    "    return list(file_paths)\n",
    "\n",
    "# Função para abrir o arquivo PDF combinado\n",
    "def open_file(file_path):\n",
    "    if platform.system() == \"Windows\":\n",
    "        os.startfile(file_path)\n",
    "    elif platform.system() == \"Darwin\":  # macOS\n",
    "        subprocess.run([\"open\", file_path])\n",
    "    else:  # Linux\n",
    "        subprocess.run([\"xdg-open\", file_path])\n",
    "\n",
    "# Selecionar arquivos PDF\n",
    "pdf_files = select_files()\n",
    "\n",
    "if pdf_files:\n",
    "    # Combinar PDFs\n",
    "    combined_pdf_name = combine_pdfs(pdf_files)\n",
    "\n",
    "    # Confirmar a criação do PDF combinado\n",
    "    print(f'PDF combinado salvo como \"{combined_pdf_name}\"')\n",
    "\n",
    "    # Abrir o PDF combinado automaticamente\n",
    "    open_file(combined_pdf_name)\n",
    "else:\n",
    "    print(\"Nenhum arquivo PDF selecionado.\")"
   ]
  }
 ],
 "metadata": {
  "kernelspec": {
   "display_name": "Python 3",
   "language": "python",
   "name": "python3"
  },
  "language_info": {
   "codemirror_mode": {
    "name": "ipython",
    "version": 3
   },
   "file_extension": ".py",
   "mimetype": "text/x-python",
   "name": "python",
   "nbconvert_exporter": "python",
   "pygments_lexer": "ipython3",
   "version": "3.12.2"
  }
 },
 "nbformat": 4,
 "nbformat_minor": 2
}
